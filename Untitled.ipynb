{
 "cells": [
  {
   "cell_type": "markdown",
   "id": "714d44ca-f949-452d-b268-e0f76644baf1",
   "metadata": {},
   "source": [
    "# Crew AI "
   ]
  },
  {
   "cell_type": "markdown",
   "id": "4055ef8d-0e26-4333-adce-6e961c78972f",
   "metadata": {},
   "source": [
    "Imports"
   ]
  },
  {
   "cell_type": "code",
   "execution_count": 1,
   "id": "ba24c045-33da-4907-9e85-77bc22c38a2c",
   "metadata": {},
   "outputs": [],
   "source": [
    "# Warning control\n",
    "import warnings\n",
    "warnings.filterwarnings('ignore')"
   ]
  },
  {
   "cell_type": "code",
   "execution_count": 2,
   "id": "5e83b84c-ed6b-4cf2-a4cb-7d93f6d51a30",
   "metadata": {},
   "outputs": [
    {
     "ename": "ModuleNotFoundError",
     "evalue": "No module named 'crewai'",
     "output_type": "error",
     "traceback": [
      "\u001b[0;31m---------------------------------------------------------------------------\u001b[0m",
      "\u001b[0;31mModuleNotFoundError\u001b[0m                       Traceback (most recent call last)",
      "Cell \u001b[0;32mIn[2], line 1\u001b[0m\n\u001b[0;32m----> 1\u001b[0m \u001b[38;5;28;01mfrom\u001b[39;00m \u001b[38;5;21;01mcrewai\u001b[39;00m \u001b[38;5;28;01mimport\u001b[39;00m Agent, Task, Crew\n",
      "\u001b[0;31mModuleNotFoundError\u001b[0m: No module named 'crewai'"
     ]
    }
   ],
   "source": [
    "from crewai import Agent, Task, Crew\n"
   ]
  },
  {
   "cell_type": "code",
   "execution_count": 4,
   "id": "42f7cb02-e98b-4d2a-866e-0d8297c3264d",
   "metadata": {},
   "outputs": [
    {
     "name": "stdout",
     "output_type": "stream",
     "text": [
      "google-cloud-bigquery-storage 2.16.2 has requirement protobuf!=3.20.0,!=3.20.1,!=4.21.0,!=4.21.1,!=4.21.2,!=4.21.3,!=4.21.4,!=4.21.5,<5.0.0dev,>=3.19.5, but you have protobuf 5.29.5.\n",
      "streamlit 1.11.1 has requirement protobuf<4,>=3.12, but you have protobuf 5.29.5.\n",
      "tensorflow 2.17.0 has requirement protobuf!=4.21.0,!=4.21.1,!=4.21.2,!=4.21.3,!=4.21.4,!=4.21.5,<5.0.0dev,>=3.20.3, but you have protobuf 5.29.5.\n",
      "tensorflow-metadata 1.15.0 has requirement protobuf<4.21,>=3.20.3; python_version < \"3.11\", but you have protobuf 5.29.5.\n"
     ]
    }
   ],
   "source": [
    "! pip check"
   ]
  },
  {
   "cell_type": "code",
   "execution_count": 10,
   "id": "4e9d152f-3a01-4058-a909-ae6dbca86f3a",
   "metadata": {},
   "outputs": [
    {
     "name": "stdout",
     "output_type": "stream",
     "text": [
      "Name: protobuf\n",
      "Version: 5.29.5\n",
      "Summary: \n",
      "Home-page: https://developers.google.com/protocol-buffers/\n",
      "Author: protobuf@googlegroups.com\n",
      "Author-email: protobuf@googlegroups.com\n",
      "License: 3-Clause BSD License\n",
      "Location: /home/dancinoman/.pyenv/versions/3.10.6/envs/lewagon/lib/python3.10/site-packages\n",
      "Requires: \n",
      "Required-by: google-api-core, google-cloud-bigquery-storage, googleapis-common-protos, grpcio-status, onnxruntime, opentelemetry-proto, proto-plus, streamlit, tensorboard, tensorflow, tensorflow-datasets, tensorflow-hub, tensorflow-metadata\n"
     ]
    }
   ],
   "source": [
    "! pip show protobuf"
   ]
  },
  {
   "cell_type": "markdown",
   "id": "20e0c716-2b58-4f26-a3d3-c97b62c3c281",
   "metadata": {},
   "source": [
    "Entre 5.0 et 3.20.3\n",
    "Entre 3.12 et 4.0\n",
    "pas de 4.21.2\n",
    "Entre 4.21 et 3.20.3\n"
   ]
  },
  {
   "cell_type": "code",
   "execution_count": 12,
   "id": "234252ab-4f3f-4c90-8848-be179db0633c",
   "metadata": {},
   "outputs": [
    {
     "name": "stdout",
     "output_type": "stream",
     "text": [
      "Collecting protobuf==3.20.3\n",
      "  Downloading protobuf-3.20.3-cp310-cp310-manylinux_2_12_x86_64.manylinux2010_x86_64.whl.metadata (679 bytes)\n",
      "Downloading protobuf-3.20.3-cp310-cp310-manylinux_2_12_x86_64.manylinux2010_x86_64.whl (1.1 MB)\n",
      "\u001b[2K   \u001b[90m━━━━━━━━━━━━━━━━━━━━━━━━━━━━━━━━━━━━━━━━\u001b[0m \u001b[32m1.1/1.1 MB\u001b[0m \u001b[31m18.3 MB/s\u001b[0m eta \u001b[36m0:00:00\u001b[0m\n",
      "\u001b[?25hInstalling collected packages: protobuf\n",
      "  Attempting uninstall: protobuf\n",
      "    Found existing installation: protobuf 5.29.5\n",
      "    Uninstalling protobuf-5.29.5:\n",
      "      Successfully uninstalled protobuf-5.29.5\n",
      "\u001b[31mERROR: pip's dependency resolver does not currently take into account all the packages that are installed. This behaviour is the source of the following dependency conflicts.\n",
      "opentelemetry-proto 1.33.1 requires protobuf<6.0,>=5.0, but you have protobuf 3.20.3 which is incompatible.\u001b[0m\u001b[31m\n",
      "\u001b[0mSuccessfully installed protobuf-3.20.3\n",
      "Note: you may need to restart the kernel to use updated packages.\n"
     ]
    }
   ],
   "source": [
    "pip install protobuf==3.20.3"
   ]
  },
  {
   "cell_type": "code",
   "execution_count": null,
   "id": "b70561d2-ea6e-47e4-9ba4-10f9eca14156",
   "metadata": {},
   "outputs": [],
   "source": []
  }
 ],
 "metadata": {
  "kernelspec": {
   "display_name": "Python 3 (ipykernel)",
   "language": "python",
   "name": "python3"
  },
  "language_info": {
   "codemirror_mode": {
    "name": "ipython",
    "version": 3
   },
   "file_extension": ".py",
   "mimetype": "text/x-python",
   "name": "python",
   "nbconvert_exporter": "python",
   "pygments_lexer": "ipython3",
   "version": "3.10.6"
  }
 },
 "nbformat": 4,
 "nbformat_minor": 5
}
